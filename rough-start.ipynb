{
 "cells": [
  {
   "cell_type": "code",
   "execution_count": null,
   "id": "14df4a0c",
   "metadata": {},
   "outputs": [
    {
     "name": "stdout",
     "output_type": "stream",
     "text": [
      "CUDA (GPU) is available. Initializing model on GPU.\n"
     ]
    }
   ],
   "source": [
    "import whisper\n",
    "import torch\n",
    "import pandas as pd\n",
    "import os\n",
    "\n",
    "# Check for cuda/cpu\n",
    "device = ('cuda' if torch.cuda.is_available() else 'cpu')\n",
    "print(f'Using {device}')\n",
    "\n",
    "# Load the model: large-v3-turbo or large-v3\n",
    "model = whisper.load_model(\"large-v3-turbo\", device=device)"
   ]
  },
  {
   "cell_type": "markdown",
   "id": "19aced78",
   "metadata": {},
   "source": [
    "Transcribe the given song, create list of \"curses\" words to search for"
   ]
  },
  {
   "cell_type": "code",
   "execution_count": null,
   "id": "c2c55779",
   "metadata": {},
   "outputs": [
    {
     "name": "stderr",
     "output_type": "stream",
     "text": [
      "c:\\Users\\dacla\\anaconda3\\Lib\\site-packages\\whisper\\timing.py:42: UserWarning: Failed to launch Triton kernels, likely due to missing CUDA toolkit; falling back to a slower median kernel implementation...\n",
      "  warnings.warn(\n",
      "c:\\Users\\dacla\\anaconda3\\Lib\\site-packages\\whisper\\timing.py:146: UserWarning: Failed to launch Triton kernels, likely due to missing CUDA toolkit; falling back to a slower DTW implementation...\n",
      "  warnings.warn(\n"
     ]
    }
   ],
   "source": [
    "# I put a few tracks in here\n",
    "song = 'juvenile'\n",
    "audio_file = f\"music/{song}.mp3\"\n",
    "\n",
    "# Format file path\n",
    "notebook_dir = os.getcwd()\n",
    "full_audio_path = os.path.join(notebook_dir, audio_file)\n",
    "\n",
    "# word_timestamps=True for timestamp info\n",
    "# Getting Triton kernel issues when I run this ?\n",
    "result = model.transcribe(full_audio_path, word_timestamps=True)"
   ]
  },
  {
   "cell_type": "code",
   "execution_count": null,
   "id": "1e7902f6",
   "metadata": {},
   "outputs": [
    {
     "data": {
      "text/html": [
       "<div>\n",
       "<style scoped>\n",
       "    .dataframe tbody tr th:only-of-type {\n",
       "        vertical-align: middle;\n",
       "    }\n",
       "\n",
       "    .dataframe tbody tr th {\n",
       "        vertical-align: top;\n",
       "    }\n",
       "\n",
       "    .dataframe thead th {\n",
       "        text-align: right;\n",
       "    }\n",
       "</style>\n",
       "<table border=\"1\" class=\"dataframe\">\n",
       "  <thead>\n",
       "    <tr style=\"text-align: right;\">\n",
       "      <th></th>\n",
       "      <th>Word</th>\n",
       "      <th>Time</th>\n",
       "      <th>Prob</th>\n",
       "    </tr>\n",
       "  </thead>\n",
       "  <tbody>\n",
       "    <tr>\n",
       "      <th>0</th>\n",
       "      <td>fuck</td>\n",
       "      <td>[6.02, 6.48]</td>\n",
       "      <td>0.960418</td>\n",
       "    </tr>\n",
       "    <tr>\n",
       "      <th>1</th>\n",
       "      <td>motherfuckers</td>\n",
       "      <td>[74.3, 75.24]</td>\n",
       "      <td>0.996993</td>\n",
       "    </tr>\n",
       "    <tr>\n",
       "      <th>2</th>\n",
       "      <td>motherfuckers</td>\n",
       "      <td>[74.3, 75.24]</td>\n",
       "      <td>0.996993</td>\n",
       "    </tr>\n",
       "  </tbody>\n",
       "</table>\n",
       "</div>"
      ],
      "text/plain": [
       "            Word           Time      Prob\n",
       "0           fuck   [6.02, 6.48]  0.960418\n",
       "1  motherfuckers  [74.3, 75.24]  0.996993\n",
       "2  motherfuckers  [74.3, 75.24]  0.996993"
      ]
     },
     "execution_count": 14,
     "metadata": {},
     "output_type": "execute_result"
    }
   ],
   "source": [
    "# Edit for things to look for\n",
    "curses = {'fuck', 'motherfucker', 'shit', 'bitch', 'nigga'}\n",
    "to_add = []\n",
    "\n",
    "# Collect words\n",
    "for segment in result[\"segments\"]:\n",
    "    for word_info in segment['words']:\n",
    "        for curse in curses:\n",
    "            if curse in word_info['word'].strip().lower():\n",
    "                to_add.append([word_info['word'].strip().lower(), [float(word_info['start']), float(word_info['end'])], word_info['probability']])\n",
    "        \n",
    "# This can probably be done better\n",
    "# There needs to be some amount of text editing done to the automatic transcriptions:\n",
    "# - Remove punctuation, make lowercase, separate root instances of common words \n",
    "\n",
    "\n",
    "# Create Dataframe\n",
    "columns = ['Word', 'Time', 'Prob']\n",
    "df = pd.DataFrame(to_add, columns=columns)"
   ]
  },
  {
   "cell_type": "code",
   "execution_count": 41,
   "id": "de41121b",
   "metadata": {},
   "outputs": [
    {
     "data": {
      "text/html": [
       "<div>\n",
       "<style scoped>\n",
       "    .dataframe tbody tr th:only-of-type {\n",
       "        vertical-align: middle;\n",
       "    }\n",
       "\n",
       "    .dataframe tbody tr th {\n",
       "        vertical-align: top;\n",
       "    }\n",
       "\n",
       "    .dataframe thead th {\n",
       "        text-align: right;\n",
       "    }\n",
       "</style>\n",
       "<table border=\"1\" class=\"dataframe\">\n",
       "  <thead>\n",
       "    <tr style=\"text-align: right;\">\n",
       "      <th></th>\n",
       "      <th>Word</th>\n",
       "      <th>Time</th>\n",
       "      <th>Prob</th>\n",
       "    </tr>\n",
       "  </thead>\n",
       "  <tbody>\n",
       "    <tr>\n",
       "      <th>0</th>\n",
       "      <td>fuck</td>\n",
       "      <td>[6.02, 6.48]</td>\n",
       "      <td>0.960418</td>\n",
       "    </tr>\n",
       "    <tr>\n",
       "      <th>1</th>\n",
       "      <td>motherfuckers</td>\n",
       "      <td>[74.3, 75.24]</td>\n",
       "      <td>0.996993</td>\n",
       "    </tr>\n",
       "  </tbody>\n",
       "</table>\n",
       "</div>"
      ],
      "text/plain": [
       "            Word           Time      Prob\n",
       "0           fuck   [6.02, 6.48]  0.960418\n",
       "1  motherfuckers  [74.3, 75.24]  0.996993"
      ]
     },
     "execution_count": 41,
     "metadata": {},
     "output_type": "execute_result"
    }
   ],
   "source": [
    "# Inspect dataframe\n",
    "df.head()"
   ]
  },
  {
   "cell_type": "code",
   "execution_count": 22,
   "id": "0d62e061",
   "metadata": {},
   "outputs": [
    {
     "name": "stdout",
     "output_type": "stream",
     "text": [
      "I can truly say I don't give a fuck about your money Because it means so much to you and all of your money Why does it mean so much to you? You cite the land of greed And I'm talking about a world of need Money has nothing to do with the value of life But that's just common sense You call me up and you talk about money You call me up and you talk about money You call me up and you talk about money I don't want to hear anymore about money Look what people do, trying to get their money Defy the fantasy based of the book of the movie Fortified cares and modified principles Convenience is the name of the game Self-indulgence is the rule Selfish motherfuckers There are no winners We all lose We all lose They fall not set You call me up and you talk about money You call me up and you talk about money You call me up and you talk about money The way you pay for my money You call me up and you talk about money You call me up and you talk about money родs\n"
     ]
    }
   ],
   "source": [
    "## Print full transcript\n",
    "full_text = result[\"text\"].strip()\n",
    "print(full_text)"
   ]
  },
  {
   "cell_type": "code",
   "execution_count": null,
   "id": "76028ca0",
   "metadata": {},
   "outputs": [],
   "source": [
    "# Pydub does the audio effects\n",
    "from pydub import AudioSegment\n",
    "\n",
    "def reverse_audio_segment(input_audio_path, output_audio_path, times):\n",
    "    \"\"\"\n",
    "    Reverses a specific segment of an audio track and saves the modified track.\n",
    "\n",
    "    Args:\n",
    "        input_audio_path (str): Path to the original audio file.\n",
    "        output_audio_path (str): Path to save the modified audio file.\n",
    "        times (list: int): Segments to reverse (in ms)\n",
    "    \"\"\"\n",
    "    # Load the audio file\n",
    "    audio = AudioSegment.from_file(input_audio_path)\n",
    "    for (start_ms, end_ms) in times:\n",
    "        \n",
    "    # Ensure start and end times are within the audio duration\n",
    "        if start_ms < 0 or end_ms > len(audio) or start_ms >= end_ms:\n",
    "            print(\"Invalid start/end times. Please check the duration of the audio.\")\n",
    "            print(f\"Audio duration: {len(audio)} ms\")\n",
    "            return\n",
    "\n",
    "        # Select times to reverse\n",
    "        before_segment = audio[:start_ms]\n",
    "\n",
    "        target_segment = audio[start_ms:end_ms]\n",
    "        reversed_segment = target_segment.reverse()\n",
    "\n",
    "        after_segment = audio[end_ms:]\n",
    "\n",
    "        #Concatenate the segments: before + reversed + after\n",
    "        audio = before_segment + reversed_segment + after_segment\n",
    "        #print(f'Reversed: {[start_ms, end_ms]}')\n",
    "\n",
    "    # Export the modified audio\n",
    "    audio.export(output_audio_path, format=\"mp3\") \n",
    "    return\n"
   ]
  },
  {
   "cell_type": "code",
   "execution_count": null,
   "id": "e0b455f4",
   "metadata": {},
   "outputs": [
    {
     "name": "stdout",
     "output_type": "stream",
     "text": [
      "Reversed: [6020, 6480]\n",
      "Reversed: [74300, 75240]\n"
     ]
    }
   ],
   "source": [
    "# Path formatting\n",
    "notebook_dir = os.getcwd()\n",
    "\n",
    "input_file = f\"music/{song}.mp3\"\n",
    "output_file = f\"music/{song}-edit.mp3\"\n",
    "\n",
    "input_path = os.path.join(notebook_dir, input_file)\n",
    "output_path = os.path.join(notebook_dir, output_file)\n",
    "\n",
    "## Maybe a bit inefficient\n",
    "times = []\n",
    "for row in df.itertuples():\n",
    "    word = row[1]\n",
    "    start, end = row[2]\n",
    "    times.append((int(start*1000), int(end*1000)))\n",
    "\n",
    "# Run the reversing script\n",
    "reverse_audio_segment(input_path, output_path, times)"
   ]
  },
  {
   "cell_type": "markdown",
   "id": "696abffb",
   "metadata": {},
   "source": [
    "Ideas: \n",
    "- demucs to split audio tracks\n",
    "\n"
   ]
  }
 ],
 "metadata": {
  "kernelspec": {
   "display_name": "base",
   "language": "python",
   "name": "python3"
  },
  "language_info": {
   "codemirror_mode": {
    "name": "ipython",
    "version": 3
   },
   "file_extension": ".py",
   "mimetype": "text/x-python",
   "name": "python",
   "nbconvert_exporter": "python",
   "pygments_lexer": "ipython3",
   "version": "3.12.7"
  }
 },
 "nbformat": 4,
 "nbformat_minor": 5
}
