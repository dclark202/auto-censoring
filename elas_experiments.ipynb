{
 "cells": [
  {
   "cell_type": "markdown",
   "metadata": {},
   "source": [
    "I changed accessing the files and looped over all available jpgs. Then created two dictionaries with appropriate data frames and pickled them. I didn't try to apply any editing to remove curse words."
   ]
  },
  {
   "cell_type": "code",
   "execution_count": 19,
   "metadata": {},
   "outputs": [
    {
     "name": "stdout",
     "output_type": "stream",
     "text": [
      "Using cpu\n"
     ]
    }
   ],
   "source": [
    "import whisper\n",
    "import torch\n",
    "import pandas as pd\n",
    "import os\n",
    "\n",
    "# Check for cuda/cpu\n",
    "device = ('cuda' if torch.cuda.is_available() else 'cpu')\n",
    "print(f'Using {device}')\n",
    "\n",
    "# Load the model: large-v3-turbo or large-v3\n",
    "model = whisper.load_model(\"large-v3-turbo\", device=device)"
   ]
  },
  {
   "cell_type": "code",
   "execution_count": 20,
   "metadata": {},
   "outputs": [],
   "source": [
    "#!pip install demucs"
   ]
  },
  {
   "cell_type": "code",
   "execution_count": 21,
   "metadata": {},
   "outputs": [],
   "source": [
    "#!pip install pydub"
   ]
  },
  {
   "cell_type": "markdown",
   "metadata": {},
   "source": [
    "Getting paths to all songs"
   ]
  },
  {
   "cell_type": "code",
   "execution_count": 32,
   "metadata": {},
   "outputs": [
    {
     "name": "stdout",
     "output_type": "stream",
     "text": [
      "First-level subdirectories: ['5th Ward Boyz - Thanks For The Blessing', 'Juvenile - Gone Ride With me', 'Notorious BIG - Everyday Struggle', 'Gorillaz - Clint Eastwood', 'Embrace - Money', \"Wu Tang Clan - Wu Tang Clain Ain't Nothing to Fuck With\", 'Elliott Smith - Christian Brothers']\n"
     ]
    }
   ],
   "source": [
    "dir = './music'\n",
    "\n",
    "# List to store first-level subdirectories\n",
    "song_paths = []\n",
    "\n",
    "for root, dirs, _ in os.walk(dir):\n",
    "    if root == dir:\n",
    "        print(\"First-level subdirectories:\", dirs)\n",
    "        for dir in dirs:\n",
    "            for file in os.scandir(os.path.join(root,dir)):\n",
    "                if ('silenced' in file.name.lower()) or  ('edit' in file.name.lower()):\n",
    "                    continue\n",
    "                song_paths.append(file.path)\n"
   ]
  },
  {
   "cell_type": "code",
   "execution_count": 33,
   "metadata": {},
   "outputs": [
    {
     "data": {
      "text/plain": [
       "['./music/Juvenile - Gone Ride With me/juvenile.mp3',\n",
       " './music/Notorious BIG - Everyday Struggle/big.mp3',\n",
       " './music/Gorillaz - Clint Eastwood/clint.mp3',\n",
       " './music/Embrace - Money/money.mp3',\n",
       " \"./music/Wu Tang Clan - Wu Tang Clain Ain't Nothing to Fuck With/wu-tang.mp3\",\n",
       " './music/Elliott Smith - Christian Brothers/brothers.mp3']"
      ]
     },
     "execution_count": 33,
     "metadata": {},
     "output_type": "execute_result"
    }
   ],
   "source": [
    "song_paths"
   ]
  },
  {
   "cell_type": "code",
   "execution_count": null,
   "metadata": {},
   "outputs": [
    {
     "name": "stdout",
     "output_type": "stream",
     "text": [
      "Selected model is a bag of 4 models. You will see that many progress bars per track.\n",
      "Separated tracks will be stored in /Users/elzbietapolak/workspace1/auto-censoring/separated-ela/juvenile/mdx_extra\n",
      "Separating track music/Juvenile - Gone Ride With me/juvenile.mp3\n"
     ]
    },
    {
     "name": "stderr",
     "output_type": "stream",
     "text": [
      "100%|████████████████████████████████████████████████████████████████████████| 264.0/264.0 [00:50<00:00,  5.20seconds/s]\n",
      "100%|████████████████████████████████████████████████████████████████████████| 264.0/264.0 [00:51<00:00,  5.16seconds/s]\n",
      "100%|████████████████████████████████████████████████████████████████████████| 264.0/264.0 [00:52<00:00,  5.03seconds/s]\n",
      "100%|████████████████████████████████████████████████████████████████████████| 264.0/264.0 [00:50<00:00,  5.21seconds/s]\n"
     ]
    },
    {
     "name": "stdout",
     "output_type": "stream",
     "text": [
      "Selected model is a bag of 4 models. You will see that many progress bars per track.\n",
      "Separated tracks will be stored in /Users/elzbietapolak/workspace1/auto-censoring/separated-ela/big/mdx_extra\n",
      "Separating track music/Notorious BIG - Everyday Struggle/big.mp3\n"
     ]
    },
    {
     "name": "stderr",
     "output_type": "stream",
     "text": [
      "100%|████████████████████████████████████████████████████████████████████████| 330.0/330.0 [01:01<00:00,  5.41seconds/s]\n",
      "100%|████████████████████████████████████████████████████████████████████████| 330.0/330.0 [01:02<00:00,  5.25seconds/s]\n",
      "100%|████████████████████████████████████████████████████████████████████████| 330.0/330.0 [01:03<00:00,  5.17seconds/s]\n",
      "100%|████████████████████████████████████████████████████████████████████████| 330.0/330.0 [01:05<00:00,  5.06seconds/s]\n"
     ]
    },
    {
     "name": "stdout",
     "output_type": "stream",
     "text": [
      "Selected model is a bag of 4 models. You will see that many progress bars per track.\n",
      "Separated tracks will be stored in /Users/elzbietapolak/workspace1/auto-censoring/separated-ela/clint/mdx_extra\n",
      "Separating track music/Gorillaz - Clint Eastwood/clint.mp3\n"
     ]
    },
    {
     "name": "stderr",
     "output_type": "stream",
     "text": [
      "100%|████████████████████████████████████████████████████████████████████████| 363.0/363.0 [01:06<00:00,  5.45seconds/s]\n",
      "100%|████████████████████████████████████████████████████████████████████████| 363.0/363.0 [01:06<00:00,  5.45seconds/s]\n",
      "100%|████████████████████████████████████████████████████████████████████████| 363.0/363.0 [01:07<00:00,  5.41seconds/s]\n",
      "100%|████████████████████████████████████████████████████████████████████████| 363.0/363.0 [01:05<00:00,  5.52seconds/s]\n"
     ]
    },
    {
     "name": "stdout",
     "output_type": "stream",
     "text": [
      "Selected model is a bag of 4 models. You will see that many progress bars per track.\n",
      "Separated tracks will be stored in /Users/elzbietapolak/workspace1/auto-censoring/separated-ela/money/mdx_extra\n",
      "Separating track music/Embrace - Money/money.mp3\n"
     ]
    },
    {
     "name": "stderr",
     "output_type": "stream",
     "text": [
      "100%|████████████████████████████████████████████████████████████████████████| 165.0/165.0 [00:29<00:00,  5.61seconds/s]\n",
      "100%|████████████████████████████████████████████████████████████████████████| 165.0/165.0 [00:30<00:00,  5.43seconds/s]\n",
      "100%|████████████████████████████████████████████████████████████████████████| 165.0/165.0 [00:30<00:00,  5.48seconds/s]\n",
      "100%|████████████████████████████████████████████████████████████████████████| 165.0/165.0 [00:29<00:00,  5.66seconds/s]\n"
     ]
    },
    {
     "name": "stdout",
     "output_type": "stream",
     "text": [
      "Selected model is a bag of 4 models. You will see that many progress bars per track.\n",
      "Separated tracks will be stored in /Users/elzbietapolak/workspace1/auto-censoring/separated-ela/wu-tang/mdx_extra\n",
      "Separating track music/Wu Tang Clan - Wu Tang Clain Ain't Nothing to Fuck With/wu-tang.mp3\n"
     ]
    },
    {
     "name": "stderr",
     "output_type": "stream",
     "text": [
      "100%|████████████████████████████████████████████████████████████████████████| 231.0/231.0 [00:40<00:00,  5.65seconds/s]\n",
      "100%|████████████████████████████████████████████████████████████████████████| 231.0/231.0 [00:41<00:00,  5.58seconds/s]\n",
      "100%|████████████████████████████████████████████████████████████████████████| 231.0/231.0 [00:42<00:00,  5.49seconds/s]\n",
      "100%|████████████████████████████████████████████████████████████████████████| 231.0/231.0 [00:41<00:00,  5.51seconds/s]\n"
     ]
    },
    {
     "name": "stdout",
     "output_type": "stream",
     "text": [
      "Selected model is a bag of 4 models. You will see that many progress bars per track.\n",
      "Separated tracks will be stored in /Users/elzbietapolak/workspace1/auto-censoring/separated-ela/brothers/mdx_extra\n",
      "Separating track music/Elliott Smith - Christian Brothers/brothers.mp3\n"
     ]
    },
    {
     "name": "stderr",
     "output_type": "stream",
     "text": [
      "100%|████████████████████████████████████████████████████████████████████████| 297.0/297.0 [00:51<00:00,  5.74seconds/s]\n",
      "100%|████████████████████████████████████████████████████████████████████████| 297.0/297.0 [00:54<00:00,  5.44seconds/s]\n",
      "100%|████████████████████████████████████████████████████████████████████████| 297.0/297.0 [00:52<00:00,  5.61seconds/s]\n",
      "100%|████████████████████████████████████████████████████████████████████████| 297.0/297.0 [00:52<00:00,  5.65seconds/s]\n"
     ]
    }
   ],
   "source": [
    "import demucs.separate\n",
    "\n",
    "for path in song_paths:\n",
    "    name = os.path.splitext(os.path.basename(path))[0]\n",
    "    output_dir = os.path.join('separated-ela',name)\n",
    "    os.makedirs(output_dir, exist_ok = True)\n",
    "    demucs.separate.main([\"--mp3\", \"--two-stems\", \"vocals\", \"-n\", \"mdx_extra\", \"--out\", output_dir, path])"
   ]
  },
  {
   "cell_type": "code",
   "execution_count": 58,
   "metadata": {},
   "outputs": [
    {
     "name": "stderr",
     "output_type": "stream",
     "text": [
      "/opt/anaconda3/lib/python3.12/site-packages/whisper/transcribe.py:126: UserWarning: FP16 is not supported on CPU; using FP32 instead\n",
      "  warnings.warn(\"FP16 is not supported on CPU; using FP32 instead\")\n",
      "/opt/anaconda3/lib/python3.12/site-packages/whisper/transcribe.py:126: UserWarning: FP16 is not supported on CPU; using FP32 instead\n",
      "  warnings.warn(\"FP16 is not supported on CPU; using FP32 instead\")\n",
      "/opt/anaconda3/lib/python3.12/site-packages/whisper/transcribe.py:126: UserWarning: FP16 is not supported on CPU; using FP32 instead\n",
      "  warnings.warn(\"FP16 is not supported on CPU; using FP32 instead\")\n",
      "/opt/anaconda3/lib/python3.12/site-packages/whisper/transcribe.py:126: UserWarning: FP16 is not supported on CPU; using FP32 instead\n",
      "  warnings.warn(\"FP16 is not supported on CPU; using FP32 instead\")\n",
      "/opt/anaconda3/lib/python3.12/site-packages/whisper/transcribe.py:126: UserWarning: FP16 is not supported on CPU; using FP32 instead\n",
      "  warnings.warn(\"FP16 is not supported on CPU; using FP32 instead\")\n",
      "/opt/anaconda3/lib/python3.12/site-packages/whisper/transcribe.py:126: UserWarning: FP16 is not supported on CPU; using FP32 instead\n",
      "  warnings.warn(\"FP16 is not supported on CPU; using FP32 instead\")\n"
     ]
    }
   ],
   "source": [
    "results = {}\n",
    "song_keys = [os.path.splitext(os.path.basename(path))[0] for path in song_paths]\n",
    "for song_key in song_keys:\n",
    "    song_folder_path = os.path.join('./separated-ela', song_key, 'mdx_extra', song_key)\n",
    "    if os.path.isdir(song_folder_path):\n",
    "        vocals = os.path.join(song_folder_path, 'vocals.mp3')\n",
    "        result = model.transcribe(vocals, word_timestamps=True)\n",
    "        results[song_key] = result"
   ]
  },
  {
   "cell_type": "code",
   "execution_count": 50,
   "metadata": {},
   "outputs": [],
   "source": [
    "# curse words\n",
    "curses = {'fuck', 'motherfucker', 'shit', 'bitch', 'nigga', 'cock', 'piss', 'cunt', 'cocksucker', 'tits'}\n",
    "\n",
    "dfs_curses = []\n",
    "dfs_all = []\n",
    "\n",
    "for result in results:\n",
    "    to_add = []\n",
    "    all_words = []\n",
    "\n",
    "    for segment in result[\"segments\"]:\n",
    "        for word_info in segment['words']:\n",
    "            word = word_info['word'].strip().lower()\n",
    "            entry = [word, float(word_info['start']), float(word_info['end']), word_info['probability']]\n",
    "            \n",
    "            all_words.append(entry)\n",
    "            if any(curse in word for curse in curses):\n",
    "                to_add.append(entry)\n",
    "    \n",
    "    columns = ['word', 'start', 'end', 'prob']\n",
    "    df_curses = pd.DataFrame(to_add, columns=columns)\n",
    "    df_all_words = pd.DataFrame(all_words, columns=columns)\n",
    "\n",
    "    # Store in lists\n",
    "    dfs_curses.append(df_curses)\n",
    "    dfs_all.append(df_all_words)\n"
   ]
  },
  {
   "cell_type": "code",
   "execution_count": 59,
   "metadata": {},
   "outputs": [],
   "source": [
    "curses = {'fuck', 'motherfucker', 'shit', 'bitch', 'nigga', 'cock', 'piss', 'cunt', 'cocksucker', 'tits'}\n",
    "\n",
    "# key: song name\n",
    "dfs_curses = {}  \n",
    "dfs_all = {}     \n",
    "\n",
    "for song_key, result in results.items():\n",
    "    to_add = []\n",
    "    all_words = []\n",
    "\n",
    "    for segment in result[\"segments\"]:\n",
    "        for word_info in segment['words']:\n",
    "            word = word_info['word'].strip().lower()\n",
    "            entry = [word, float(word_info['start']), float(word_info['end']), word_info['probability']]\n",
    "\n",
    "            all_words.append(entry)\n",
    "            if any(curse in word for curse in curses):\n",
    "                to_add.append(entry)\n",
    "\n",
    "    columns = ['word', 'start', 'end', 'prob']\n",
    "    dfs_curses[song_key] = pd.DataFrame(to_add, columns=columns)\n",
    "    dfs_all[song_key] = pd.DataFrame(all_words, columns=columns)\n"
   ]
  },
  {
   "cell_type": "code",
   "execution_count": 62,
   "metadata": {},
   "outputs": [
    {
     "data": {
      "text/plain": [
       "6"
      ]
     },
     "execution_count": 62,
     "metadata": {},
     "output_type": "execute_result"
    }
   ],
   "source": [
    "len(dfs_curses)"
   ]
  },
  {
   "cell_type": "code",
   "execution_count": 61,
   "metadata": {},
   "outputs": [
    {
     "data": {
      "text/html": [
       "<div>\n",
       "<style scoped>\n",
       "    .dataframe tbody tr th:only-of-type {\n",
       "        vertical-align: middle;\n",
       "    }\n",
       "\n",
       "    .dataframe tbody tr th {\n",
       "        vertical-align: top;\n",
       "    }\n",
       "\n",
       "    .dataframe thead th {\n",
       "        text-align: right;\n",
       "    }\n",
       "</style>\n",
       "<table border=\"1\" class=\"dataframe\">\n",
       "  <thead>\n",
       "    <tr style=\"text-align: right;\">\n",
       "      <th></th>\n",
       "      <th>word</th>\n",
       "      <th>start</th>\n",
       "      <th>end</th>\n",
       "      <th>prob</th>\n",
       "    </tr>\n",
       "  </thead>\n",
       "  <tbody>\n",
       "    <tr>\n",
       "      <th>0</th>\n",
       "      <td>shit</td>\n",
       "      <td>16.66</td>\n",
       "      <td>16.88</td>\n",
       "      <td>0.982401</td>\n",
       "    </tr>\n",
       "    <tr>\n",
       "      <th>1</th>\n",
       "      <td>nigga</td>\n",
       "      <td>19.84</td>\n",
       "      <td>20.04</td>\n",
       "      <td>0.863942</td>\n",
       "    </tr>\n",
       "    <tr>\n",
       "      <th>2</th>\n",
       "      <td>motherfucker,</td>\n",
       "      <td>25.52</td>\n",
       "      <td>25.96</td>\n",
       "      <td>0.945372</td>\n",
       "    </tr>\n",
       "    <tr>\n",
       "      <th>3</th>\n",
       "      <td>fuck</td>\n",
       "      <td>28.36</td>\n",
       "      <td>28.58</td>\n",
       "      <td>0.747311</td>\n",
       "    </tr>\n",
       "    <tr>\n",
       "      <th>4</th>\n",
       "      <td>niggas</td>\n",
       "      <td>28.78</td>\n",
       "      <td>29.14</td>\n",
       "      <td>0.987976</td>\n",
       "    </tr>\n",
       "    <tr>\n",
       "      <th>5</th>\n",
       "      <td>bitches</td>\n",
       "      <td>32.26</td>\n",
       "      <td>32.52</td>\n",
       "      <td>0.985073</td>\n",
       "    </tr>\n",
       "    <tr>\n",
       "      <th>6</th>\n",
       "      <td>nigga</td>\n",
       "      <td>58.76</td>\n",
       "      <td>59.10</td>\n",
       "      <td>0.763383</td>\n",
       "    </tr>\n",
       "    <tr>\n",
       "      <th>7</th>\n",
       "      <td>shit's</td>\n",
       "      <td>59.10</td>\n",
       "      <td>59.50</td>\n",
       "      <td>0.808782</td>\n",
       "    </tr>\n",
       "    <tr>\n",
       "      <th>8</th>\n",
       "      <td>shit</td>\n",
       "      <td>93.26</td>\n",
       "      <td>93.50</td>\n",
       "      <td>0.998570</td>\n",
       "    </tr>\n",
       "    <tr>\n",
       "      <th>9</th>\n",
       "      <td>nigga</td>\n",
       "      <td>98.44</td>\n",
       "      <td>98.96</td>\n",
       "      <td>0.854299</td>\n",
       "    </tr>\n",
       "    <tr>\n",
       "      <th>10</th>\n",
       "      <td>nigga</td>\n",
       "      <td>104.74</td>\n",
       "      <td>105.02</td>\n",
       "      <td>0.998740</td>\n",
       "    </tr>\n",
       "    <tr>\n",
       "      <th>11</th>\n",
       "      <td>niggas</td>\n",
       "      <td>121.16</td>\n",
       "      <td>121.60</td>\n",
       "      <td>0.992520</td>\n",
       "    </tr>\n",
       "    <tr>\n",
       "      <th>12</th>\n",
       "      <td>niggas</td>\n",
       "      <td>126.34</td>\n",
       "      <td>126.70</td>\n",
       "      <td>0.999329</td>\n",
       "    </tr>\n",
       "    <tr>\n",
       "      <th>13</th>\n",
       "      <td>niggas</td>\n",
       "      <td>140.26</td>\n",
       "      <td>140.66</td>\n",
       "      <td>0.975142</td>\n",
       "    </tr>\n",
       "    <tr>\n",
       "      <th>14</th>\n",
       "      <td>nigga</td>\n",
       "      <td>172.38</td>\n",
       "      <td>172.60</td>\n",
       "      <td>0.930047</td>\n",
       "    </tr>\n",
       "    <tr>\n",
       "      <th>15</th>\n",
       "      <td>niggas</td>\n",
       "      <td>192.24</td>\n",
       "      <td>192.86</td>\n",
       "      <td>0.901263</td>\n",
       "    </tr>\n",
       "    <tr>\n",
       "      <th>16</th>\n",
       "      <td>fucking</td>\n",
       "      <td>193.04</td>\n",
       "      <td>193.36</td>\n",
       "      <td>0.905432</td>\n",
       "    </tr>\n",
       "    <tr>\n",
       "      <th>17</th>\n",
       "      <td>motherfuckin'</td>\n",
       "      <td>250.92</td>\n",
       "      <td>251.54</td>\n",
       "      <td>0.615367</td>\n",
       "    </tr>\n",
       "    <tr>\n",
       "      <th>18</th>\n",
       "      <td>bitch</td>\n",
       "      <td>254.18</td>\n",
       "      <td>254.44</td>\n",
       "      <td>0.995257</td>\n",
       "    </tr>\n",
       "    <tr>\n",
       "      <th>19</th>\n",
       "      <td>fuck</td>\n",
       "      <td>255.36</td>\n",
       "      <td>256.38</td>\n",
       "      <td>0.993304</td>\n",
       "    </tr>\n",
       "    <tr>\n",
       "      <th>20</th>\n",
       "      <td>fuck</td>\n",
       "      <td>257.76</td>\n",
       "      <td>257.76</td>\n",
       "      <td>0.000045</td>\n",
       "    </tr>\n",
       "  </tbody>\n",
       "</table>\n",
       "</div>"
      ],
      "text/plain": [
       "             word   start     end      prob\n",
       "0            shit   16.66   16.88  0.982401\n",
       "1           nigga   19.84   20.04  0.863942\n",
       "2   motherfucker,   25.52   25.96  0.945372\n",
       "3            fuck   28.36   28.58  0.747311\n",
       "4          niggas   28.78   29.14  0.987976\n",
       "5         bitches   32.26   32.52  0.985073\n",
       "6           nigga   58.76   59.10  0.763383\n",
       "7          shit's   59.10   59.50  0.808782\n",
       "8            shit   93.26   93.50  0.998570\n",
       "9           nigga   98.44   98.96  0.854299\n",
       "10          nigga  104.74  105.02  0.998740\n",
       "11         niggas  121.16  121.60  0.992520\n",
       "12         niggas  126.34  126.70  0.999329\n",
       "13         niggas  140.26  140.66  0.975142\n",
       "14          nigga  172.38  172.60  0.930047\n",
       "15         niggas  192.24  192.86  0.901263\n",
       "16        fucking  193.04  193.36  0.905432\n",
       "17  motherfuckin'  250.92  251.54  0.615367\n",
       "18          bitch  254.18  254.44  0.995257\n",
       "19           fuck  255.36  256.38  0.993304\n",
       "20           fuck  257.76  257.76  0.000045"
      ]
     },
     "execution_count": 61,
     "metadata": {},
     "output_type": "execute_result"
    }
   ],
   "source": [
    "dfs_curses['juvenile']"
   ]
  },
  {
   "cell_type": "code",
   "execution_count": 65,
   "metadata": {},
   "outputs": [
    {
     "data": {
      "text/html": [
       "<div>\n",
       "<style scoped>\n",
       "    .dataframe tbody tr th:only-of-type {\n",
       "        vertical-align: middle;\n",
       "    }\n",
       "\n",
       "    .dataframe tbody tr th {\n",
       "        vertical-align: top;\n",
       "    }\n",
       "\n",
       "    .dataframe thead th {\n",
       "        text-align: right;\n",
       "    }\n",
       "</style>\n",
       "<table border=\"1\" class=\"dataframe\">\n",
       "  <thead>\n",
       "    <tr style=\"text-align: right;\">\n",
       "      <th></th>\n",
       "      <th>word</th>\n",
       "      <th>start</th>\n",
       "      <th>end</th>\n",
       "      <th>prob</th>\n",
       "    </tr>\n",
       "  </thead>\n",
       "  <tbody>\n",
       "    <tr>\n",
       "      <th>0</th>\n",
       "      <td>fucked</td>\n",
       "      <td>41.66</td>\n",
       "      <td>42.04</td>\n",
       "      <td>0.333248</td>\n",
       "    </tr>\n",
       "    <tr>\n",
       "      <th>1</th>\n",
       "      <td>shit</td>\n",
       "      <td>59.80</td>\n",
       "      <td>60.16</td>\n",
       "      <td>0.441364</td>\n",
       "    </tr>\n",
       "    <tr>\n",
       "      <th>2</th>\n",
       "      <td>bitch</td>\n",
       "      <td>138.64</td>\n",
       "      <td>138.96</td>\n",
       "      <td>0.683050</td>\n",
       "    </tr>\n",
       "    <tr>\n",
       "      <th>3</th>\n",
       "      <td>bitch</td>\n",
       "      <td>162.48</td>\n",
       "      <td>162.66</td>\n",
       "      <td>0.919134</td>\n",
       "    </tr>\n",
       "    <tr>\n",
       "      <th>4</th>\n",
       "      <td>bitch</td>\n",
       "      <td>165.42</td>\n",
       "      <td>165.74</td>\n",
       "      <td>0.991685</td>\n",
       "    </tr>\n",
       "    <tr>\n",
       "      <th>5</th>\n",
       "      <td>shittin'</td>\n",
       "      <td>235.70</td>\n",
       "      <td>236.06</td>\n",
       "      <td>0.731149</td>\n",
       "    </tr>\n",
       "    <tr>\n",
       "      <th>6</th>\n",
       "      <td>shit</td>\n",
       "      <td>241.26</td>\n",
       "      <td>241.42</td>\n",
       "      <td>0.927856</td>\n",
       "    </tr>\n",
       "    <tr>\n",
       "      <th>7</th>\n",
       "      <td>motherfucker</td>\n",
       "      <td>242.04</td>\n",
       "      <td>242.50</td>\n",
       "      <td>0.577208</td>\n",
       "    </tr>\n",
       "  </tbody>\n",
       "</table>\n",
       "</div>"
      ],
      "text/plain": [
       "           word   start     end      prob\n",
       "0        fucked   41.66   42.04  0.333248\n",
       "1          shit   59.80   60.16  0.441364\n",
       "2         bitch  138.64  138.96  0.683050\n",
       "3         bitch  162.48  162.66  0.919134\n",
       "4         bitch  165.42  165.74  0.991685\n",
       "5      shittin'  235.70  236.06  0.731149\n",
       "6          shit  241.26  241.42  0.927856\n",
       "7  motherfucker  242.04  242.50  0.577208"
      ]
     },
     "execution_count": 65,
     "metadata": {},
     "output_type": "execute_result"
    }
   ],
   "source": [
    "dfs_curses['big']"
   ]
  },
  {
   "cell_type": "code",
   "execution_count": 66,
   "metadata": {},
   "outputs": [
    {
     "data": {
      "text/html": [
       "<div>\n",
       "<style scoped>\n",
       "    .dataframe tbody tr th:only-of-type {\n",
       "        vertical-align: middle;\n",
       "    }\n",
       "\n",
       "    .dataframe tbody tr th {\n",
       "        vertical-align: top;\n",
       "    }\n",
       "\n",
       "    .dataframe thead th {\n",
       "        text-align: right;\n",
       "    }\n",
       "</style>\n",
       "<table border=\"1\" class=\"dataframe\">\n",
       "  <thead>\n",
       "    <tr style=\"text-align: right;\">\n",
       "      <th></th>\n",
       "      <th>word</th>\n",
       "      <th>start</th>\n",
       "      <th>end</th>\n",
       "      <th>prob</th>\n",
       "    </tr>\n",
       "  </thead>\n",
       "  <tbody>\n",
       "    <tr>\n",
       "      <th>0</th>\n",
       "      <td>shit,</td>\n",
       "      <td>80.94</td>\n",
       "      <td>81.22</td>\n",
       "      <td>0.440436</td>\n",
       "    </tr>\n",
       "    <tr>\n",
       "      <th>1</th>\n",
       "      <td>fuckin'</td>\n",
       "      <td>132.84</td>\n",
       "      <td>133.08</td>\n",
       "      <td>0.727348</td>\n",
       "    </tr>\n",
       "    <tr>\n",
       "      <th>2</th>\n",
       "      <td>motherfuckers</td>\n",
       "      <td>149.04</td>\n",
       "      <td>149.78</td>\n",
       "      <td>0.967149</td>\n",
       "    </tr>\n",
       "  </tbody>\n",
       "</table>\n",
       "</div>"
      ],
      "text/plain": [
       "            word   start     end      prob\n",
       "0          shit,   80.94   81.22  0.440436\n",
       "1        fuckin'  132.84  133.08  0.727348\n",
       "2  motherfuckers  149.04  149.78  0.967149"
      ]
     },
     "execution_count": 66,
     "metadata": {},
     "output_type": "execute_result"
    }
   ],
   "source": [
    "dfs_curses['clint']"
   ]
  },
  {
   "cell_type": "code",
   "execution_count": 63,
   "metadata": {},
   "outputs": [],
   "source": [
    "import pickle\n",
    "\n",
    "with open(\"ela_dfs_curses.pkl\", \"wb\") as f:\n",
    "    pickle.dump(dfs_curses, f)\n",
    "\n",
    "with open(\"ela_dfs_all.pkl\", \"wb\") as f:\n",
    "    pickle.dump(dfs_all, f)\n"
   ]
  }
 ],
 "metadata": {
  "kernelspec": {
   "display_name": "Python 3.11 (.venv311)",
   "language": "python",
   "name": "venv311"
  },
  "language_info": {
   "codemirror_mode": {
    "name": "ipython",
    "version": 3
   },
   "file_extension": ".py",
   "mimetype": "text/x-python",
   "name": "python",
   "nbconvert_exporter": "python",
   "pygments_lexer": "ipython3",
   "version": "3.12.7"
  }
 },
 "nbformat": 4,
 "nbformat_minor": 2
}
