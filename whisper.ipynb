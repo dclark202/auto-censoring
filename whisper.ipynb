{
 "cells": [
  {
   "cell_type": "code",
   "execution_count": 2,
   "id": "14df4a0c",
   "metadata": {},
   "outputs": [
    {
     "name": "stdout",
     "output_type": "stream",
     "text": [
      "CUDA (GPU) is available. Initializing model on GPU.\n"
     ]
    }
   ],
   "source": [
    "import whisper\n",
    "import torch\n",
    "import pandas as pd\n",
    "\n",
    "# Check if CUDA (NVIDIA GPU) is available\n",
    "if torch.cuda.is_available():\n",
    "    device = \"cuda\"\n",
    "    print(\"CUDA (GPU) is available. Initializing model on GPU.\")\n",
    "else:\n",
    "    device = \"cpu\"\n",
    "    print(\"CUDA (GPU) is not available. Initializing model on CPU.\")\n",
    "\n",
    "# Load the model, specifying the device\n",
    "# You can also specify compute_type for further optimization, though often not needed\n",
    "# for basic load_model, faster-whisper handles this better.\n",
    "model = whisper.load_model(\"large-v3\", device=device)"
   ]
  },
  {
   "cell_type": "markdown",
   "id": "19aced78",
   "metadata": {},
   "source": [
    "Transcribe the given song, create list of \"curses\" words to search for"
   ]
  },
  {
   "cell_type": "code",
   "execution_count": 25,
   "id": "c2c55779",
   "metadata": {},
   "outputs": [],
   "source": [
    "audio_file_path = \"../Music/money.mp3\"\n",
    "\n",
    "# The key argument for word-level timestamps is 'word_timestamps=True'\n",
    "result = model.transcribe(audio_file_path, word_timestamps=True)\n"
   ]
  },
  {
   "cell_type": "code",
   "execution_count": null,
   "id": "1e7902f6",
   "metadata": {},
   "outputs": [
    {
     "data": {
      "text/html": [
       "<div>\n",
       "<style scoped>\n",
       "    .dataframe tbody tr th:only-of-type {\n",
       "        vertical-align: middle;\n",
       "    }\n",
       "\n",
       "    .dataframe tbody tr th {\n",
       "        vertical-align: top;\n",
       "    }\n",
       "\n",
       "    .dataframe thead th {\n",
       "        text-align: right;\n",
       "    }\n",
       "</style>\n",
       "<table border=\"1\" class=\"dataframe\">\n",
       "  <thead>\n",
       "    <tr style=\"text-align: right;\">\n",
       "      <th></th>\n",
       "      <th>Word</th>\n",
       "      <th>Start (s)</th>\n",
       "      <th>End (s)</th>\n",
       "      <th>Prob</th>\n",
       "    </tr>\n",
       "  </thead>\n",
       "  <tbody>\n",
       "    <tr>\n",
       "      <th>0</th>\n",
       "      <td>fuck</td>\n",
       "      <td>5.90</td>\n",
       "      <td>6.32</td>\n",
       "      <td>0.919877</td>\n",
       "    </tr>\n",
       "    <tr>\n",
       "      <th>1</th>\n",
       "      <td>motherfuckers</td>\n",
       "      <td>74.28</td>\n",
       "      <td>75.08</td>\n",
       "      <td>0.934049</td>\n",
       "    </tr>\n",
       "  </tbody>\n",
       "</table>\n",
       "</div>"
      ],
      "text/plain": [
       "            Word  Start (s)  End (s)      Prob\n",
       "0           fuck       5.90     6.32  0.919877\n",
       "1  motherfuckers      74.28    75.08  0.934049"
      ]
     },
     "execution_count": 33,
     "metadata": {},
     "output_type": "execute_result"
    }
   ],
   "source": [
    "# Edit for things to look for\n",
    "curses = {'fuck', 'motherfucker', 'shit', 'bitch'}\n",
    "to_add = []\n",
    "\n",
    "# Collect words\n",
    "for segment in result[\"segments\"]:\n",
    "    for word_info in segment['words']:\n",
    "        for curse in curses:\n",
    "            if curse in word_info['word'].strip().lower():\n",
    "                to_add.append([word_info['word'].strip().lower(), word_info['start'], word_info['end'], word_info['probability']])\n",
    "        \n",
    "# This can probably be done better\n",
    "# There needs to be some amount of text editing done to the automatic transcriptions:\n",
    "# - Remove punctuation, make lowercase, separate root instances of common words \n",
    "\n",
    "\n",
    "# Create DF          \n",
    "columns = ['Word', 'Start (s)', 'End (s)', 'Prob']\n",
    "df = pd.DataFrame(to_add, columns=columns)\n",
    "\n",
    "# Print\n",
    "df.head(-1)"
   ]
  },
  {
   "cell_type": "code",
   "execution_count": 27,
   "id": "0d62e061",
   "metadata": {},
   "outputs": [
    {
     "name": "stdout",
     "output_type": "stream",
     "text": [
      "I can truly say I don't give a fuck about your money Because it means so much to you and all of your money Why does it mean so much to you? You cite the land of greed And I'm talking about a world of need Money has nothing to do with the value of life But that's just common sense You call me up and you talk about money You call me up and you talk about money You call me up and you talk about money I don't wanna hear anymore about money Look what people do trying to get their money Money To buy the fantasy based on the book or the movie Fortified cares and modified principles Convenience is the name of the game Self-indulgence is the rule Selfish motherfuckers There are no winners We all lose Thank for nothing You call me up and you talk about money You call me up and you talk about money You call me up and you talk about money Nothing passer by Just keeps the people falling asleep Don't listen to about money You calling me up Don't listen to about money Ain't no clapping for me You calling me up Love for sale You put a show You put a show You put a show Love for sale You put a show Love for sale You put a show Love for sale You put a show Love for sale You put a show Love for sale You put a show Love for sale You put a show Love for sale You put a show\n"
     ]
    }
   ],
   "source": [
    "## Print full transcript\n",
    "print(result[\"text\"].strip())"
   ]
  },
  {
   "cell_type": "markdown",
   "id": "0f514278",
   "metadata": {},
   "source": [
    "Ideas: \n",
    "- demucs to split audio tracks\n",
    "- apply automatic editing using audacity, different modes (reverse, bleep, silence)\n"
   ]
  },
  {
   "cell_type": "code",
   "execution_count": null,
   "id": "8cef2873",
   "metadata": {},
   "outputs": [],
   "source": []
  }
 ],
 "metadata": {
  "kernelspec": {
   "display_name": "base",
   "language": "python",
   "name": "python3"
  },
  "language_info": {
   "codemirror_mode": {
    "name": "ipython",
    "version": 3
   },
   "file_extension": ".py",
   "mimetype": "text/x-python",
   "name": "python",
   "nbconvert_exporter": "python",
   "pygments_lexer": "ipython3",
   "version": "3.12.7"
  }
 },
 "nbformat": 4,
 "nbformat_minor": 5
}
